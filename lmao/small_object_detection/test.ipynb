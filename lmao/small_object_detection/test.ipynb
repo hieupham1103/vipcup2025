{
 "cells": [
  {
   "cell_type": "code",
   "execution_count": null,
   "id": "bd257fdc",
   "metadata": {},
   "outputs": [],
   "source": [
    "from src import *\n",
    "from PIL import Image\n",
    "import torchvision.transforms as transforms\n",
    "from torch.utils.data import DataLoader\n",
    "import numpy as np\n",
    "import matplotlib.pyplot as plt\n",
    "import matplotlib.patches as patches\n",
    "from PIL import Image"
   ]
  },
  {
   "cell_type": "code",
   "execution_count": null,
   "id": "bd257fdc",
   "metadata": {},
   "outputs": [],
   "source": [
    "video_path = \"data/Validation_Videos/RGB/DRONE_083193.mp4\"\n",
    "checkpoint_path = \"checkpoints/rgb_model_1.pth\"\n",
    "IMAGE_DIR = 'data/track_video/split_A/IR/test/train_images'\n",
    "LABEL_DIR = 'data/track_video/split_A/IR/test/train_labels'\n",
    "IMAGE_SIZE = (320, 256)\n",
    "WINDOW_SIZE = 30\n",
    "device = 'cuda:1'"
   ]
  },
  {
   "cell_type": "code",
   "execution_count": null,
   "id": "ea61f168",
   "metadata": {},
   "outputs": [],
   "source": [
    "video = utils.load_video_to_numpy(video_path,\n",
    "                                  target_size=(640, 512)\n",
    "                                  )\n",
    "video=torch.from_numpy(video).float()\n",
    "video=[video[i] for i in range(video.shape[0]) if i % 2 == 0]\n",
    "video = torch.stack(video, dim=0)\n",
    "video = video.to(device)"
   ]
  },
  {
   "cell_type": "code",
   "execution_count": null,
   "id": "9affd47e",
   "metadata": {},
   "outputs": [],
   "source": [
    "model = SmallDetectorModule(\n",
    "    gray_img=True,\n",
    "    window_size=WINDOW_SIZE,\n",
    "    \n",
    ")\n",
    "checkpoint = torch.load(checkpoint_path, map_location=device)\n",
    "model.SegmentationModel.load_state_dict(checkpoint['model_state_dict'])\n",
    "model.to(device)\n",
    "model.eval() "
   ]
  },
  {
   "cell_type": "code",
   "execution_count": null,
   "id": "5d32eb72",
   "metadata": {},
   "outputs": [],
   "source": [
    "video.shape"
   ]
  },
  {
   "cell_type": "code",
   "execution_count": null,
   "id": "4224fc00",
   "metadata": {},
   "outputs": [],
   "source": [
    "heatmaps, bboxes = model(video)"
   ]
  },
  {
   "cell_type": "code",
   "execution_count": null,
   "id": "3b008c1d",
   "metadata": {},
   "outputs": [],
   "source": [
    "video.shape"
   ]
  },
  {
   "cell_type": "code",
   "execution_count": null,
   "id": "fda4ba76",
   "metadata": {},
   "outputs": [],
   "source": [
    "utils.save_video_with_bboxes(\n",
    "    video_tensor=video,\n",
    "    bboxes_per_frame=bboxes,\n",
    "    output_path=\"outputs/DRONE_083193_2.mp4\",\n",
    "    fps=15\n",
    ")"
   ]
  },
  {
   "cell_type": "code",
   "execution_count": null,
   "id": "250032f9",
   "metadata": {},
   "outputs": [],
   "source": [
    "gbsub_video = model.BackgroundSubtractor(video)"
   ]
  },
  {
   "cell_type": "code",
   "execution_count": null,
   "id": "70799aa5",
   "metadata": {},
   "outputs": [],
   "source": [
    "utils.save_video_from_numpy(gbsub_video, 'outputs/bgsub_video.mp4')"
   ]
  },
  {
   "cell_type": "code",
   "execution_count": null,
   "id": "8edd2079",
   "metadata": {},
   "outputs": [],
   "source": [
    "bboxes[0]"
   ]
  },
  {
   "cell_type": "code",
   "execution_count": null,
   "id": "b3d4faf1",
   "metadata": {},
   "outputs": [],
   "source": [
    "utils.save_video_from_numpy(heatmaps, 'outputs/fullvideo-c.mp4')"
   ]
  }
 ],
 "metadata": {
  "kernelspec": {
   "display_name": "cvpr2025-3.8",
   "language": "python",
   "name": "python3"
  },
  "language_info": {
   "codemirror_mode": {
    "name": "ipython",
    "version": 3
   },
   "file_extension": ".py",
   "mimetype": "text/x-python",
   "name": "python",
   "nbconvert_exporter": "python",
   "pygments_lexer": "ipython3",
   "version": "3.8.20"
  }
 },
 "nbformat": 4,
 "nbformat_minor": 5
}
