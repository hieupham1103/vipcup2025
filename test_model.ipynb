{
 "cells": [
  {
   "cell_type": "code",
   "execution_count": 1,
   "id": "69f0b56c",
   "metadata": {},
   "outputs": [],
   "source": [
    "import cv2\n",
    "import numpy as np\n",
    "import matplotlib.pyplot as plt\n",
    "\n",
    "from models import multiscale_model as multiscale\n",
    "from models import model\n",
    "from models import track_model\n",
    "from src.utils import visualize_detection_video, visualize_tracking_video, visualize_detection_image"
   ]
  },
  {
   "cell_type": "code",
   "execution_count": 2,
   "id": "58a37042",
   "metadata": {},
   "outputs": [],
   "source": [
    "# model_path = \"checkpoints/deyolo-2.pt\"\n",
    "model_path = \"checkpoints/IR/yolov8n/best.pt\"\n",
    "# model_path = \"checkpoints/RGB/yolov8n2/best.pt\"\n",
    "video_path = \"data/Test_detection_tracking/RGB/videos/V_BIRD_043.mp4\"\n",
    "# video_rgb = \"data/Validation_Videos/RGB/BIRD_03897.mp4\"\n",
    "# video_ir = \"data/Validation_Videos/IR/IR_BIRD_03897.mp4\"\n",
    "# img_path = \"data/Test_detection_tracking/RGB/images/V_BIRD_03796_119_png.rf.530a6c9c28c064821925336774127667.jpg\"\n",
    "img_path = \"data/Test_detection_tracking/IR/images/IR_BIRD_072146_296_png.rf.315a6dbc0e72565914cadaaa6a5d6056.jpg\""
   ]
  },
  {
   "cell_type": "code",
   "execution_count": 3,
   "id": "86199ee5",
   "metadata": {},
   "outputs": [],
   "source": [
    "# yolo_model = model.DetectionModel(\n",
    "#                             model_path,\n",
    "#                             conf_threshold=0.3,\n",
    "#                             iou_threshold=0.45\n",
    "#                             )\n",
    "multiscale_model = multiscale.DetectionModel(\n",
    "                                    model_path,\n",
    "                                    conf_threshold=0.1,\n",
    "                                    iou_threshold=0.1,\n",
    "                                    device=\"cuda\",\n",
    "                                    )\n",
    "# yolo_track_model = track_model.TrackingModel(\n",
    "#                             yolo_model,\n",
    "#                             )\n",
    "# multiscale_track_model = track_model.TrackingModel(\n",
    "#                             multiscale_model,\n",
    "#                             )"
   ]
  },
  {
   "cell_type": "code",
   "execution_count": 4,
   "id": "e3489be0",
   "metadata": {},
   "outputs": [],
   "source": [
    "img = cv2.imread(img_path)\n",
    "result = multiscale_model.image_detect(img)\n",
    "visualize_detection_image(\n",
    "    image_path=img_path,\n",
    "    detection_results=result,\n",
    "    output_path=\"outputs/detection_result.jpg\"\n",
    ")"
   ]
  },
  {
   "cell_type": "code",
   "execution_count": 5,
   "id": "65d80a66",
   "metadata": {},
   "outputs": [],
   "source": [
    "# yolo_frames = yolo_model.video_detect(video_path,\n",
    "#                                     conf_threshold=0.1,\n",
    "#                                     iou_threshold=0.2\n",
    "#                                     )"
   ]
  },
  {
   "cell_type": "code",
   "execution_count": 6,
   "id": "8362fced",
   "metadata": {},
   "outputs": [],
   "source": [
    "# multiscale_frames = multiscale_model.video_detect(video_path,\n",
    "#                                                 conf_threshold=0.1,\n",
    "#                                                 iou_threshold=0.1,\n",
    "#                                                   )"
   ]
  },
  {
   "cell_type": "code",
   "execution_count": 7,
   "id": "25add447",
   "metadata": {},
   "outputs": [],
   "source": [
    "# len(multiscale_frames)"
   ]
  },
  {
   "cell_type": "code",
   "execution_count": 8,
   "id": "a8bb1c04",
   "metadata": {},
   "outputs": [],
   "source": [
    "def bb_intersection_over_union(boxA, boxB):\n",
    "\txA = max(boxA[0], boxB[0])\n",
    "\tyA = max(boxA[1], boxB[1])\n",
    "\txB = min(boxA[2], boxB[2])\n",
    "\tyB = min(boxA[3], boxB[3])\n",
    "\tinterArea = max(0, xB - xA + 1) * max(0, yB - yA + 1)\n",
    "\tboxAArea = (boxA[2] - boxA[0] + 1) * (boxA[3] - boxA[1] + 1)\n",
    "\tboxBArea = (boxB[2] - boxB[0] + 1) * (boxB[3] - boxB[1] + 1)\n",
    "\tiou = interArea / float(boxAArea + boxBArea - interArea)\n",
    "\treturn iou"
   ]
  },
  {
   "cell_type": "code",
   "execution_count": 9,
   "id": "12c1d204",
   "metadata": {},
   "outputs": [],
   "source": [
    "# class_count = {\n",
    "#     \"bird\": 0,\n",
    "#     \"drone\": 0,\n",
    "# }\n",
    "\n",
    "# bboxes_count = {}\n",
    "\n",
    "# for idx, multiscale_frame in enumerate(multiscale_frames):\n",
    "#     # print(f\"Frame {i+1}:\")\n",
    "#     # print(f\"YOLO boxes: {len(yolo_frame['boxes'])}, Multiscale boxes: {len(multiscale_frame['boxes'])}\")\n",
    "#     # if len(multiscale_frame[\"boxes\"]) > 1:\n",
    "#     #     print(f\"Frame {idx + 1}: Multiscale detected {len(multiscale_frame['boxes'])} boxes\")\n",
    "#     #     print(multiscale_frame['boxes'])\n",
    "#     #     print(bb_intersection_over_union(multiscale_frame[\"boxes\"][0].numpy(), multiscale_frame[\"boxes\"][1].numpy()))\n",
    "        \n",
    "        \n",
    "#     for label in multiscale_frames[idx][\"labels\"]:\n",
    "#         if label == 0:\n",
    "#             class_count[\"bird\"] += 1\n",
    "#         else:\n",
    "#             class_count[\"drone\"] += 1\n",
    "#     bboxes_count[len(multiscale_frame[\"boxes\"])] = bboxes_count.get(len(multiscale_frame[\"boxes\"]), 0) + 1\n",
    "\n",
    "# for count, freq in bboxes_count.items():\n",
    "#     print(f\"Number of frames with {count} boxes: {freq}\")\n",
    "# print(f\"Class counts - Birds: {class_count['bird']}, Drones: {class_count['drone']}\")"
   ]
  },
  {
   "cell_type": "code",
   "execution_count": 10,
   "id": "e2ec13ab",
   "metadata": {},
   "outputs": [],
   "source": [
    "# visualize_detection_video(\n",
    "#         detection_frames=yolo_frames,\n",
    "#         video_path=video_path,\n",
    "#         output_path=\"outputs/yolo_detection.mp4\",\n",
    "#         )\n",
    "\n",
    "# visualize_detection_video(\n",
    "#         detection_frames=multiscale_frames,\n",
    "#         video_path=video_path,\n",
    "#         output_path=\"outputs/V_BIRD_043.mp4\",\n",
    "#         )\n",
    "\n",
    "# visualize_detection_video(\n",
    "#         detection_frames=multiscale_frames,\n",
    "#         video_path=video_rgb,\n",
    "#         output_path=\"outputs/fusion_rgb.mp4\",\n",
    "#         )\n",
    "# visualize_detection_video(\n",
    "#         detection_frames=multiscale_frames,\n",
    "#         video_path=video_ir,\n",
    "#         output_path=\"outputs/fusion_ir.mp4\",\n",
    "#         )\n",
    "\n"
   ]
  },
  {
   "cell_type": "code",
   "execution_count": 11,
   "id": "0da27908",
   "metadata": {},
   "outputs": [],
   "source": [
    "# yolo_track_outputs = yolo_track_model.video_track(video_path)\n",
    "# multiscale_track_outputs = multiscale_track_model.video_track(video_path)"
   ]
  },
  {
   "cell_type": "code",
   "execution_count": 12,
   "id": "58553c5f",
   "metadata": {},
   "outputs": [],
   "source": [
    "# for idx, frame in enumerate(multiscale_track_outputs):\n",
    "#     print(f\"Frame {idx + 1}:\")\n",
    "#     print(frame)"
   ]
  },
  {
   "cell_type": "code",
   "execution_count": 13,
   "id": "8e4b9bf4",
   "metadata": {},
   "outputs": [],
   "source": [
    "# visualize_tracking_video(\n",
    "#     video_path=video_path,\n",
    "#     tracking_frames=multiscale_track_outputs,\n",
    "#     output_path=\"outputs/multiscale_tracking.mp4\"\n",
    "# )"
   ]
  }
 ],
 "metadata": {
  "kernelspec": {
   "display_name": "thieu2024-3.9",
   "language": "python",
   "name": "python3"
  },
  "language_info": {
   "codemirror_mode": {
    "name": "ipython",
    "version": 3
   },
   "file_extension": ".py",
   "mimetype": "text/x-python",
   "name": "python",
   "nbconvert_exporter": "python",
   "pygments_lexer": "ipython3",
   "version": "3.9.23"
  }
 },
 "nbformat": 4,
 "nbformat_minor": 5
}
