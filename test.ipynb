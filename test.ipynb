{
 "cells": [
  {
   "cell_type": "code",
   "execution_count": 6,
   "id": "69f0b56c",
   "metadata": {},
   "outputs": [],
   "source": [
    "import cv2\n",
    "import numpy as np\n",
    "import matplotlib.pyplot as plt\n",
    "from model import DetectionModel, TrackingModel\n",
    "from utils import visualize_detection_video"
   ]
  },
  {
   "cell_type": "code",
   "execution_count": 2,
   "id": "58a37042",
   "metadata": {},
   "outputs": [],
   "source": [
    "model_path = \"checkpoints/yolov8n2/best.pt\"\n",
    "video_path = \"test_data/det_track/RGB/videos/V_BIRD_043.mp4\""
   ]
  },
  {
   "cell_type": "code",
   "execution_count": 3,
   "id": "86199ee5",
   "metadata": {},
   "outputs": [],
   "source": [
    "detection_model = DetectionModel(model_path, conf_threshold=0.3, iou_threshold=0.45)\n",
    "tracking_model = TrackingModel(detection_model)\n"
   ]
  },
  {
   "cell_type": "code",
   "execution_count": 4,
   "id": "1ba5b120",
   "metadata": {},
   "outputs": [],
   "source": [
    "detected_frames = detection_model.video_detect(video_path)"
   ]
  },
  {
   "cell_type": "code",
   "execution_count": 7,
   "id": "369309d5",
   "metadata": {},
   "outputs": [],
   "source": [
    "visualize_detection_video(\n",
    "                video_path = video_path,\n",
    "                detection_frames = detected_frames,\n",
    "                output_path = \"outputs/detected_video.mp4\"\n",
    "                )"
   ]
  },
  {
   "cell_type": "code",
   "execution_count": null,
   "id": "905eb42f",
   "metadata": {},
   "outputs": [],
   "source": []
  }
 ],
 "metadata": {
  "kernelspec": {
   "display_name": "env-3.9",
   "language": "python",
   "name": "python3"
  },
  "language_info": {
   "codemirror_mode": {
    "name": "ipython",
    "version": 3
   },
   "file_extension": ".py",
   "mimetype": "text/x-python",
   "name": "python",
   "nbconvert_exporter": "python",
   "pygments_lexer": "ipython3",
   "version": "3.9.23"
  }
 },
 "nbformat": 4,
 "nbformat_minor": 5
}
