{
 "cells": [
  {
   "cell_type": "code",
   "execution_count": null,
   "id": "fba72371",
   "metadata": {},
   "outputs": [],
   "source": [
    "import os\n",
    "import orjson\n",
    "\n",
    "from models import multiscale_model as multiscale\n",
    "from models import model\n",
    "from models import track_model\n",
    "from src.utils import visualize_detection_video, visualize_tracking_video"
   ]
  },
  {
   "cell_type": "code",
   "execution_count": null,
   "id": "fb8f0be2",
   "metadata": {},
   "outputs": [],
   "source": [
    "videos_folder = \"data/test_data/det_track/RGB/videos\"\n",
    "model_path = \"checkpoints/RGB/yolov8n2/best.pt\"\n",
    "output_folder = \"outputs/all_interpolated\""
   ]
  },
  {
   "cell_type": "code",
   "execution_count": null,
   "id": "ece7e9ed",
   "metadata": {},
   "outputs": [],
   "source": [
    "videos_path = [\n",
    "    os.path.join(videos_folder, video)\n",
    "    for video in os.listdir(videos_folder)\n",
    "    if video.endswith(('.mp4', '.avi', '.mov'))\n",
    "]"
   ]
  },
  {
   "cell_type": "code",
   "execution_count": null,
   "id": "1011c495",
   "metadata": {},
   "outputs": [],
   "source": [
    "videos_path"
   ]
  },
  {
   "cell_type": "code",
   "execution_count": null,
   "id": "b44cd9d0",
   "metadata": {},
   "outputs": [],
   "source": [
    "multiscale_model = multiscale.DetectionModel(\n",
    "                model_path=model_path,\n",
    "                device=\"cuda\",\n",
    "            )\n",
    "# yolo_model = model.DetectionModel(\n",
    "#                 model_path=model_path,\n",
    "#                 device=\"cuda\",\n",
    "#             )\n",
    "# track_model = track_model.TrackingModel(\n",
    "#                 multiscale_model\n",
    "#             )"
   ]
  },
  {
   "cell_type": "code",
   "execution_count": null,
   "id": "cb3310e5",
   "metadata": {},
   "outputs": [],
   "source": [
    "def save_log(\n",
    "            detections,\n",
    "            video_name,\n",
    "            conf_threshold,\n",
    "            iou_threshold,\n",
    "            output_path\n",
    "        ):\n",
    "    new_detections = detections.copy()\n",
    "    for frame_id, frame in enumerate(new_detections):\n",
    "        for idx, (bbox, score, label) in enumerate(zip(frame[\"boxes\"], frame[\"scores\"], frame[\"labels\"])):\n",
    "            new_detections[frame_id][\"boxes\"][idx] = [float(coord) for coord in bbox]\n",
    "            new_detections[frame_id][\"scores\"][idx] = float(score)\n",
    "            new_detections[frame_id][\"labels\"][idx] = int(label)\n",
    "            \n",
    "    output = {\n",
    "        \"video_name\": video_name,\n",
    "        \"conf_threshold\": conf_threshold,\n",
    "        \"iou_threshold\": iou_threshold,\n",
    "        \"frames\": detections,\n",
    "    }\n",
    "    with open(output_path, \"wb\") as f:\n",
    "        f.write(orjson.dumps(output, option=orjson.OPT_INDENT_2))\n",
    "    print(f\"Saved log to {output_path}\")\n",
    "    return output_path"
   ]
  },
  {
   "cell_type": "code",
   "execution_count": null,
   "id": "6cd90220",
   "metadata": {},
   "outputs": [],
   "source": [
    "for iou in [0.1]:\n",
    "    for conf in [0.1, 0.2]:\n",
    "        print(f\"Running with iou: {iou}, conf: {conf}\")\n",
    "        for path in videos_path:\n",
    "            video_name = os.path.splitext(os.path.basename(path))[0]\n",
    "            print(f\"Processing video: {video_name}\")\n",
    "            output_path = f\"{output_folder}/iou_{iou}_conf_{conf}\"\n",
    "            \n",
    "            # yolo_det = yolo_model.video_detect(\n",
    "            #                                 path,\n",
    "            #                                 conf_threshold=conf,\n",
    "            #                                 iou_threshold=iou\n",
    "            #                             )\n",
    "            # visualize_detection_video(\n",
    "            #     video_path=path,\n",
    "            #     detection_frames=yolo_det,\n",
    "            #     output_path=f\"{output_path}/yolo.mp4\"\n",
    "            # )\n",
    "            # save_log(\n",
    "            #     detections=yolo_det,\n",
    "            #     video_name=video_name,\n",
    "            #     conf_threshold=conf,\n",
    "            #     iou_threshold=iou,\n",
    "            #     output_path=f\"{output_path}/yolo_det.json\",\n",
    "            # )\n",
    "            \n",
    "            multiscale_det = multiscale_model.video_detect(\n",
    "                                                    path,\n",
    "                                                    conf_threshold=conf,\n",
    "                                                    iou_threshold=iou    \n",
    "                                                )    \n",
    "            visualize_detection_video(\n",
    "                video_path=path,\n",
    "                detection_frames=multiscale_det,\n",
    "                output_path=f\"{output_path}/multiscale.mp4\"\n",
    "            )\n",
    "            save_log(\n",
    "                detections=multiscale_det,\n",
    "                video_name=video_name,\n",
    "                conf_threshold=conf,\n",
    "                iou_threshold=iou,\n",
    "                output_path=f\"{output_path}/{video_name}.json\",\n",
    "            )"
   ]
  },
  {
   "cell_type": "code",
   "execution_count": null,
   "id": "f0bb0a9c",
   "metadata": {},
   "outputs": [],
   "source": [
    "# yolo_model = model.DetectionModel(\n",
    "#                             model_path,\n",
    "#                             conf_threshold=0.3,\n",
    "#                             iou_threshold=0.45\n",
    "#                             )\n",
    "# multiscale_model = multiscale.DetectionModel(\n",
    "#                                     model_path,\n",
    "#                                     conf_threshold=0.3,\n",
    "#                                     iou_threshold=0.1\n",
    "#                                     )\n",
    "# yolo_track_model = track_model.TrackingModel(\n",
    "#                             yolo_model,\n",
    "#                             )\n",
    "# multiscale_track_model = track_model.TrackingModel(\n",
    "#                             multiscale_model,\n",
    "#                             )"
   ]
  },
  {
   "cell_type": "code",
   "execution_count": null,
   "id": "d58ced23",
   "metadata": {},
   "outputs": [],
   "source": [
    "# for path in videos_path:\n",
    "#     video_name = os.path.basename(path).removesuffix('.mp4').removesuffix('.avi').removesuffix('.mov')\n",
    "#     print(f\"Processing video: {video_name}\")\n",
    "    \n",
    "#     # # Detection\n",
    "#     # yolo_det = yolo_model.video_detect(path)\n",
    "#     multiscale_det = multiscale_model.video_detect(path)\n",
    "    \n",
    "#     # visualize_detection_video(\n",
    "#     #     video_path=path,\n",
    "#     #     detection_frames=yolo_det,\n",
    "#     #     output_path=f\"{output_folder}/detection/{video_name}/yolo.mp4\"\n",
    "#     # )\n",
    "#     visualize_detection_video(\n",
    "#         video_path=path,\n",
    "#         detection_frames=multiscale_det,\n",
    "#         output_path=f\"{output_folder}/detection/{video_name}.mp4\"\n",
    "#     )\n",
    "    \n",
    "#     # # Tracking\n",
    "#     # yolo_track = yolo_track_model.video_track(path)\n",
    "#     # multiscale_track = multiscale_track_model.video_track(path)\n",
    "#     # visualize_tracking_video(\n",
    "#     #     video_path=path,\n",
    "#     #     tracking_frames=yolo_track,\n",
    "#     #     output_path=f\"{output_folder}/tracking/{video_name}/yolo.mp4\"\n",
    "#     # )\n",
    "#     # visualize_tracking_video(\n",
    "#     #     video_path=path,\n",
    "#     #     tracking_frames=multiscale_track,\n",
    "#     #     output_path=f\"{output_folder}/tracking/{video_name}/multiscale.mp4\"\n",
    "#     # )"
   ]
  }
 ],
 "metadata": {
  "kernelspec": {
   "display_name": "env-3.9",
   "language": "python",
   "name": "python3"
  },
  "language_info": {
   "codemirror_mode": {
    "name": "ipython",
    "version": 3
   },
   "file_extension": ".py",
   "mimetype": "text/x-python",
   "name": "python",
   "nbconvert_exporter": "python",
   "pygments_lexer": "ipython3",
   "version": "3.9.23"
  }
 },
 "nbformat": 4,
 "nbformat_minor": 5
}
