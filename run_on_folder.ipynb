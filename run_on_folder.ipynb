{
 "cells": [
  {
   "cell_type": "code",
   "execution_count": 1,
   "id": "fba72371",
   "metadata": {},
   "outputs": [],
   "source": [
    "import os\n",
    "\n",
    "from models import multiscale_model as multiscale\n",
    "from models import model\n",
    "from models import track_model\n",
    "from src.utils import visualize_detection_video, visualize_tracking_video"
   ]
  },
  {
   "cell_type": "code",
   "execution_count": 2,
   "id": "fb8f0be2",
   "metadata": {},
   "outputs": [],
   "source": [
    "videos_folder = \"data/test_data/det_track/RGB/videos\"\n",
    "model_path = \"checkpoints/RGB/yolov8n2/best.pt\"\n",
    "output_folder = \"outputs/tunning\""
   ]
  },
  {
   "cell_type": "code",
   "execution_count": 3,
   "id": "ece7e9ed",
   "metadata": {},
   "outputs": [],
   "source": [
    "videos_path = [\n",
    "    os.path.join(videos_folder, video)\n",
    "    for video in os.listdir(videos_folder)\n",
    "    if video.endswith(('.mp4', '.avi', '.mov'))\n",
    "]"
   ]
  },
  {
   "cell_type": "code",
   "execution_count": 4,
   "id": "1011c495",
   "metadata": {},
   "outputs": [
    {
     "data": {
      "text/plain": [
       "['data/test_data/det_track/RGB/videos\\\\V_BIRD_043.mp4',\n",
       " 'data/test_data/det_track/RGB/videos\\\\V_BIRD_045.mp4',\n",
       " 'data/test_data/det_track/RGB/videos\\\\V_BIRD_047.mp4',\n",
       " 'data/test_data/det_track/RGB/videos\\\\V_BIRD_050.mp4',\n",
       " 'data/test_data/det_track/RGB/videos\\\\V_BIRD_051.mp4',\n",
       " 'data/test_data/det_track/RGB/videos\\\\V_DRONE_099.mp4',\n",
       " 'data/test_data/det_track/RGB/videos\\\\V_DRONE_101.mp4',\n",
       " 'data/test_data/det_track/RGB/videos\\\\V_DRONE_104.mp4',\n",
       " 'data/test_data/det_track/RGB/videos\\\\V_DRONE_105.mp4',\n",
       " 'data/test_data/det_track/RGB/videos\\\\V_DRONE_108.mp4',\n",
       " 'data/test_data/det_track/RGB/videos\\\\V_DRONE_111.mp4',\n",
       " 'data/test_data/det_track/RGB/videos\\\\V_DRONE_114.mp4']"
      ]
     },
     "execution_count": 4,
     "metadata": {},
     "output_type": "execute_result"
    }
   ],
   "source": [
    "videos_path"
   ]
  },
  {
   "cell_type": "code",
   "execution_count": 5,
   "id": "b44cd9d0",
   "metadata": {},
   "outputs": [],
   "source": [
    "multiscale_model = multiscale.DetectionModel(\n",
    "                model_path=model_path,\n",
    "                device=\"cuda\",\n",
    "            )\n",
    "yolo_model = model.DetectionModel(\n",
    "                model_path=model_path,\n",
    "                device=\"cuda\",\n",
    "            )\n",
    "track_model = track_model.TrackingModel(\n",
    "                multiscale_model\n",
    "            )"
   ]
  },
  {
   "cell_type": "code",
   "execution_count": null,
   "id": "6cd90220",
   "metadata": {},
   "outputs": [
    {
     "name": "stdout",
     "output_type": "stream",
     "text": [
      "Running with iou: 0.1, conf: 0.3\n",
      "Processing video: V_BIRD_043\n",
      "Processing video: V_BIRD_045\n",
      "Processing video: V_BIRD_047\n",
      "Processing video: V_BIRD_050\n",
      "Processing video: V_BIRD_051\n",
      "Processing video: V_DRONE_099\n"
     ]
    }
   ],
   "source": [
    "for iou in [0.1, 0.2, 0.3, 0.4, 0.5, 0.6, 0.7, 0.8]:\n",
    "    for conf in [0.3, 0.4, 0.5, 0.6]:\n",
    "        print(f\"Running with iou: {iou}, conf: {conf}\")\n",
    "        for path in videos_path:\n",
    "            video_name = os.path.splitext(os.path.basename(path))[0]\n",
    "            print(f\"Processing video: {video_name}\")\n",
    "            output_path = f\"{output_folder}/iou_{iou}_conf_{conf}/{video_name}\"\n",
    "            \n",
    "            multiscale_det = multiscale_model.video_detect(\n",
    "                                                    path,\n",
    "                                                    conf_threshold=conf,\n",
    "                                                    iou_threshold=iou    \n",
    "                                                )\n",
    "            yolo_det = yolo_model.video_detect(\n",
    "                                            path,\n",
    "                                            conf_threshold=conf,\n",
    "                                            iou_threshold=iou\n",
    "                                        )\n",
    "                \n",
    "            visualize_detection_video(\n",
    "                video_path=path,\n",
    "                detection_frames=yolo_det,\n",
    "                output_path=f\"{output_path}/yolo.mp4\"\n",
    "            )\n",
    "            visualize_detection_video(\n",
    "                video_path=path,\n",
    "                detection_frames=multiscale_det,\n",
    "                output_path=f\"{output_path}/multiscale.mp4\"\n",
    "            )\n",
    "            \n",
    "            with open(f\"{output_path}/yolo_det.txt\", \"w\") as f:\n",
    "                for idx, frame in enumerate(yolo_det):\n",
    "                    f.write(f\"Frame {idx}:\\n\")\n",
    "                    for box, score, label in zip(frame['boxes'], frame['scores'], frame['labels']):\n",
    "                        box = [float(coord) for coord in box]\n",
    "                        label = int(label)\n",
    "                        score = float(score)\n",
    "                        f.write(f\"Box: {box}, Score: {score}, Label: {label}\\n\")\n",
    "            \n",
    "            with open(f\"{output_path}/multiscale_det.txt\", \"w\") as f:\n",
    "                for idx, frame in enumerate(multiscale_det):\n",
    "                    f.write(f\"Frame {idx}:\\n\")\n",
    "                    for box, score, label in zip(frame['boxes'], frame['scores'], frame['labels']):\n",
    "                        box = [float(coord) for coord in box]\n",
    "                        label = int(label)\n",
    "                        score = float(score)\n",
    "                        f.write(f\"Box: {box}, Score: {score}, Label: {label}\\n\")"
   ]
  },
  {
   "cell_type": "code",
   "execution_count": null,
   "id": "f0bb0a9c",
   "metadata": {},
   "outputs": [],
   "source": [
    "# yolo_model = model.DetectionModel(\n",
    "#                             model_path,\n",
    "#                             conf_threshold=0.3,\n",
    "#                             iou_threshold=0.45\n",
    "#                             )\n",
    "# multiscale_model = multiscale.DetectionModel(\n",
    "#                                     model_path,\n",
    "#                                     conf_threshold=0.3,\n",
    "#                                     iou_threshold=0.1\n",
    "#                                     )\n",
    "# yolo_track_model = track_model.TrackingModel(\n",
    "#                             yolo_model,\n",
    "#                             )\n",
    "# multiscale_track_model = track_model.TrackingModel(\n",
    "#                             multiscale_model,\n",
    "#                             )"
   ]
  },
  {
   "cell_type": "code",
   "execution_count": null,
   "id": "d58ced23",
   "metadata": {},
   "outputs": [],
   "source": [
    "# for path in videos_path:\n",
    "#     video_name = os.path.basename(path).removesuffix('.mp4').removesuffix('.avi').removesuffix('.mov')\n",
    "#     print(f\"Processing video: {video_name}\")\n",
    "    \n",
    "#     # # Detection\n",
    "#     yolo_det = yolo_model.video_detect(path)\n",
    "#     multiscale_det = multiscale_model.video_detect(path)\n",
    "    \n",
    "#     visualize_detection_video(\n",
    "#         video_path=path,\n",
    "#         detection_frames=yolo_det,\n",
    "#         output_path=f\"{output_folder}/detection/{video_name}/yolo.mp4\"\n",
    "#     )\n",
    "#     visualize_detection_video(\n",
    "#         video_path=path,\n",
    "#         detection_frames=multiscale_det,\n",
    "#         output_path=f\"{output_folder}/detection/{video_name}/multiscale.mp4\"\n",
    "#     )\n",
    "    \n",
    "#     # # Tracking\n",
    "#     yolo_track = yolo_track_model.video_track(path)\n",
    "#     multiscale_track = multiscale_track_model.video_track(path)\n",
    "#     visualize_tracking_video(\n",
    "#         video_path=path,\n",
    "#         tracking_frames=yolo_track,\n",
    "#         output_path=f\"{output_folder}/tracking/{video_name}/yolo.mp4\"\n",
    "#     )\n",
    "#     visualize_tracking_video(\n",
    "#         video_path=path,\n",
    "#         tracking_frames=multiscale_track,\n",
    "#         output_path=f\"{output_folder}/tracking/{video_name}/multiscale.mp4\"\n",
    "#     )"
   ]
  }
 ],
 "metadata": {
  "kernelspec": {
   "display_name": "env-3.9",
   "language": "python",
   "name": "python3"
  },
  "language_info": {
   "codemirror_mode": {
    "name": "ipython",
    "version": 3
   },
   "file_extension": ".py",
   "mimetype": "text/x-python",
   "name": "python",
   "nbconvert_exporter": "python",
   "pygments_lexer": "ipython3",
   "version": "3.9.23"
  }
 },
 "nbformat": 4,
 "nbformat_minor": 5
}
