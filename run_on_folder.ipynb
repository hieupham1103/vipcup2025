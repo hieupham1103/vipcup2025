{
 "cells": [
  {
   "cell_type": "code",
   "execution_count": 1,
   "id": "fba72371",
   "metadata": {},
   "outputs": [],
   "source": [
    "import os\n",
    "import orjson\n",
    "\n",
    "from models import multiscale_model as multiscale\n",
    "from models import model\n",
    "from models import track_model\n",
    "from src.utils import visualize_detection_video, visualize_tracking_video"
   ]
  },
  {
   "cell_type": "code",
   "execution_count": 2,
   "id": "fb8f0be2",
   "metadata": {},
   "outputs": [],
   "source": [
    "videos_folder = \"data/test_data/det_track/IR/videos\"\n",
    "model_path = \"checkpoints/IR/yolov8n/best.pt\"\n",
    "# model_path = \"checkpoints/RGB/yolov8n2/best.pt\"\n",
    "output_folder = \"outputs/test/IR\""
   ]
  },
  {
   "cell_type": "code",
   "execution_count": 3,
   "id": "ece7e9ed",
   "metadata": {},
   "outputs": [],
   "source": [
    "videos_path = [\n",
    "    os.path.join(videos_folder, video)\n",
    "    for video in os.listdir(videos_folder)\n",
    "    if video.endswith(('.mp4', '.avi', '.mov'))\n",
    "]"
   ]
  },
  {
   "cell_type": "code",
   "execution_count": 4,
   "id": "1011c495",
   "metadata": {},
   "outputs": [
    {
     "data": {
      "text/plain": [
       "['data/test_data/det_track/IR/videos\\\\IR_BIRD_074.mp4',\n",
       " 'data/test_data/det_track/IR/videos\\\\IR_BIRD_075.mp4',\n",
       " 'data/test_data/det_track/IR/videos\\\\IR_BIRD_076.mp4',\n",
       " 'data/test_data/det_track/IR/videos\\\\IR_BIRD_077.mp4',\n",
       " 'data/test_data/det_track/IR/videos\\\\IR_BIRD_078.mp4',\n",
       " 'data/test_data/det_track/IR/videos\\\\IR_BIRD_079.mp4',\n",
       " 'data/test_data/det_track/IR/videos\\\\IR_DRONE_139.mp4',\n",
       " 'data/test_data/det_track/IR/videos\\\\IR_DRONE_142.mp4',\n",
       " 'data/test_data/det_track/IR/videos\\\\IR_DRONE_145.mp4',\n",
       " 'data/test_data/det_track/IR/videos\\\\IR_DRONE_147.mp4',\n",
       " 'data/test_data/det_track/IR/videos\\\\IR_DRONE_152.mp4',\n",
       " 'data/test_data/det_track/IR/videos\\\\IR_DRONE_155.mp4',\n",
       " 'data/test_data/det_track/IR/videos\\\\IR_DRONE_157.mp4']"
      ]
     },
     "execution_count": 4,
     "metadata": {},
     "output_type": "execute_result"
    }
   ],
   "source": [
    "videos_path"
   ]
  },
  {
   "cell_type": "code",
   "execution_count": 5,
   "id": "b44cd9d0",
   "metadata": {},
   "outputs": [],
   "source": [
    "multiscale_model = multiscale.DetectionModel(\n",
    "                model_path=model_path,\n",
    "                device=\"cuda\",\n",
    "            )\n",
    "# track_model = track_model.TrackingModel(\n",
    "#                 multiscale_model\n",
    "#             )"
   ]
  },
  {
   "cell_type": "code",
   "execution_count": 6,
   "id": "cb3310e5",
   "metadata": {},
   "outputs": [],
   "source": [
    "def save_log(\n",
    "            detections,\n",
    "            video_name,\n",
    "            conf_threshold,\n",
    "            iou_threshold,\n",
    "            output_path\n",
    "        ):\n",
    "    new_detections = detections.copy()\n",
    "    for frame_id, frame in enumerate(new_detections):\n",
    "        for idx, (bbox, score, label) in enumerate(zip(frame[\"boxes\"], frame[\"scores\"], frame[\"labels\"])):\n",
    "            new_detections[frame_id][\"boxes\"][idx] = [float(coord) for coord in bbox]\n",
    "            new_detections[frame_id][\"scores\"][idx] = float(score)\n",
    "            new_detections[frame_id][\"labels\"][idx] = int(label)\n",
    "            \n",
    "    output = {\n",
    "        \"video_name\": video_name,\n",
    "        \"conf_threshold\": conf_threshold,\n",
    "        \"iou_threshold\": iou_threshold,\n",
    "        \"frames\": detections,\n",
    "    }\n",
    "    with open(output_path, \"wb\") as f:\n",
    "        f.write(orjson.dumps(output, option=orjson.OPT_INDENT_2))\n",
    "    print(f\"Saved log to {output_path}\")\n",
    "    return output_path"
   ]
  },
  {
   "cell_type": "code",
   "execution_count": 7,
   "id": "6cd90220",
   "metadata": {},
   "outputs": [
    {
     "name": "stdout",
     "output_type": "stream",
     "text": [
      "Running with iou: 0.1, conf: 0.1\n",
      "Processing video: IR_BIRD_074\n",
      "Saved log to outputs/test/IR/iou_0.1_conf_0.1/IR_BIRD_074.json\n",
      "Processing video: IR_BIRD_075\n",
      "Saved log to outputs/test/IR/iou_0.1_conf_0.1/IR_BIRD_075.json\n",
      "Processing video: IR_BIRD_076\n",
      "Saved log to outputs/test/IR/iou_0.1_conf_0.1/IR_BIRD_076.json\n",
      "Processing video: IR_BIRD_077\n",
      "Saved log to outputs/test/IR/iou_0.1_conf_0.1/IR_BIRD_077.json\n",
      "Processing video: IR_BIRD_078\n",
      "Saved log to outputs/test/IR/iou_0.1_conf_0.1/IR_BIRD_078.json\n",
      "Processing video: IR_BIRD_079\n"
     ]
    },
    {
     "ename": "KeyboardInterrupt",
     "evalue": "",
     "output_type": "error",
     "traceback": [
      "\u001b[1;31m---------------------------------------------------------------------------\u001b[0m",
      "\u001b[1;31mKeyboardInterrupt\u001b[0m                         Traceback (most recent call last)",
      "Cell \u001b[1;32mIn[7], line 9\u001b[0m\n\u001b[0;32m      6\u001b[0m \u001b[38;5;28mprint\u001b[39m(\u001b[38;5;124mf\u001b[39m\u001b[38;5;124m\"\u001b[39m\u001b[38;5;124mProcessing video: \u001b[39m\u001b[38;5;132;01m{\u001b[39;00mvideo_name\u001b[38;5;132;01m}\u001b[39;00m\u001b[38;5;124m\"\u001b[39m)\n\u001b[0;32m      7\u001b[0m output_path \u001b[38;5;241m=\u001b[39m \u001b[38;5;124mf\u001b[39m\u001b[38;5;124m\"\u001b[39m\u001b[38;5;132;01m{\u001b[39;00moutput_folder\u001b[38;5;132;01m}\u001b[39;00m\u001b[38;5;124m/iou_\u001b[39m\u001b[38;5;132;01m{\u001b[39;00miou\u001b[38;5;132;01m}\u001b[39;00m\u001b[38;5;124m_conf_\u001b[39m\u001b[38;5;132;01m{\u001b[39;00mconf\u001b[38;5;132;01m}\u001b[39;00m\u001b[38;5;124m\"\u001b[39m\n\u001b[1;32m----> 9\u001b[0m multiscale_det \u001b[38;5;241m=\u001b[39m \u001b[43mmultiscale_model\u001b[49m\u001b[38;5;241;43m.\u001b[39;49m\u001b[43mvideo_detect\u001b[49m\u001b[43m(\u001b[49m\n\u001b[0;32m     10\u001b[0m \u001b[43m                                        \u001b[49m\u001b[43mpath\u001b[49m\u001b[43m,\u001b[49m\n\u001b[0;32m     11\u001b[0m \u001b[43m                                        \u001b[49m\u001b[43mconf_threshold\u001b[49m\u001b[38;5;241;43m=\u001b[39;49m\u001b[43mconf\u001b[49m\u001b[43m,\u001b[49m\n\u001b[0;32m     12\u001b[0m \u001b[43m                                        \u001b[49m\u001b[43miou_threshold\u001b[49m\u001b[38;5;241;43m=\u001b[39;49m\u001b[43miou\u001b[49m\u001b[43m    \u001b[49m\n\u001b[0;32m     13\u001b[0m \u001b[43m                                    \u001b[49m\u001b[43m)\u001b[49m    \n\u001b[0;32m     14\u001b[0m visualize_detection_video(\n\u001b[0;32m     15\u001b[0m     video_path\u001b[38;5;241m=\u001b[39mpath,\n\u001b[0;32m     16\u001b[0m     detection_frames\u001b[38;5;241m=\u001b[39mmultiscale_det,\n\u001b[0;32m     17\u001b[0m     output_path\u001b[38;5;241m=\u001b[39m\u001b[38;5;124mf\u001b[39m\u001b[38;5;124m\"\u001b[39m\u001b[38;5;132;01m{\u001b[39;00moutput_path\u001b[38;5;132;01m}\u001b[39;00m\u001b[38;5;124m/\u001b[39m\u001b[38;5;132;01m{\u001b[39;00mvideo_name\u001b[38;5;132;01m}\u001b[39;00m\u001b[38;5;124m.mp4\u001b[39m\u001b[38;5;124m\"\u001b[39m\n\u001b[0;32m     18\u001b[0m )\n\u001b[0;32m     19\u001b[0m save_log(\n\u001b[0;32m     20\u001b[0m     detections\u001b[38;5;241m=\u001b[39mmultiscale_det,\n\u001b[0;32m     21\u001b[0m     video_name\u001b[38;5;241m=\u001b[39mvideo_name,\n\u001b[1;32m   (...)\u001b[0m\n\u001b[0;32m     24\u001b[0m     output_path\u001b[38;5;241m=\u001b[39m\u001b[38;5;124mf\u001b[39m\u001b[38;5;124m\"\u001b[39m\u001b[38;5;132;01m{\u001b[39;00moutput_path\u001b[38;5;132;01m}\u001b[39;00m\u001b[38;5;124m/\u001b[39m\u001b[38;5;132;01m{\u001b[39;00mvideo_name\u001b[38;5;132;01m}\u001b[39;00m\u001b[38;5;124m.json\u001b[39m\u001b[38;5;124m\"\u001b[39m,\n\u001b[0;32m     25\u001b[0m )\n",
      "File \u001b[1;32md:\\VGU_LAB\\vipcup2025\\models\\multiscale_model.py:309\u001b[0m, in \u001b[0;36mDetectionModel.video_detect\u001b[1;34m(self, video_path, scales, crop_ratio, weights, conf_threshold, iou_threshold, min_detection_frames, max_missing_frames)\u001b[0m\n\u001b[0;32m    306\u001b[0m     \u001b[38;5;28;01mif\u001b[39;00m \u001b[38;5;129;01mnot\u001b[39;00m ret:\n\u001b[0;32m    307\u001b[0m         \u001b[38;5;28;01mbreak\u001b[39;00m\n\u001b[1;32m--> 309\u001b[0m     det \u001b[38;5;241m=\u001b[39m \u001b[38;5;28;43mself\u001b[39;49m\u001b[38;5;241;43m.\u001b[39;49m\u001b[43mimage_detect\u001b[49m\u001b[43m(\u001b[49m\u001b[43mframe\u001b[49m\u001b[43m,\u001b[49m\n\u001b[0;32m    310\u001b[0m \u001b[43m                            \u001b[49m\u001b[43mscales\u001b[49m\u001b[38;5;241;43m=\u001b[39;49m\u001b[43mscales\u001b[49m\u001b[43m,\u001b[49m\n\u001b[0;32m    311\u001b[0m \u001b[43m                            \u001b[49m\u001b[43mcrop_ratio\u001b[49m\u001b[38;5;241;43m=\u001b[39;49m\u001b[43mcrop_ratio\u001b[49m\u001b[43m,\u001b[49m\n\u001b[0;32m    312\u001b[0m \u001b[43m                            \u001b[49m\u001b[43mweights\u001b[49m\u001b[38;5;241;43m=\u001b[39;49m\u001b[43mweights\u001b[49m\u001b[43m,\u001b[49m\n\u001b[0;32m    313\u001b[0m \u001b[43m                            \u001b[49m\u001b[43mconf_threshold\u001b[49m\u001b[38;5;241;43m=\u001b[39;49m\u001b[43mconf_threshold\u001b[49m\u001b[43m,\u001b[49m\n\u001b[0;32m    314\u001b[0m \u001b[43m                            \u001b[49m\u001b[43miou_threshold\u001b[49m\u001b[38;5;241;43m=\u001b[39;49m\u001b[43miou_threshold\u001b[49m\n\u001b[0;32m    315\u001b[0m \u001b[43m                        \u001b[49m\u001b[43m)\u001b[49m\n\u001b[0;32m    317\u001b[0m     frames\u001b[38;5;241m.\u001b[39mappend(det)\n\u001b[0;32m    318\u001b[0m cap\u001b[38;5;241m.\u001b[39mrelease()\n",
      "File \u001b[1;32md:\\VGU_LAB\\vipcup2025\\models\\multiscale_model.py:195\u001b[0m, in \u001b[0;36mDetectionModel.image_detect\u001b[1;34m(self, image, scales, crop_ratio, weights, conf_threshold, iou_threshold)\u001b[0m\n\u001b[0;32m    192\u001b[0m detections_per_view \u001b[38;5;241m=\u001b[39m []\n\u001b[0;32m    194\u001b[0m \u001b[38;5;66;03m# print(batch_images[0][1].shape, batch_images[0][1].shape)\u001b[39;00m\n\u001b[1;32m--> 195\u001b[0m \u001b[38;5;28;01mfor\u001b[39;00m idx, (result, metadata) \u001b[38;5;129;01min\u001b[39;00m \u001b[38;5;28menumerate\u001b[39m(\u001b[38;5;28mzip\u001b[39m(batch_results, batch_metadata)):\n\u001b[0;32m    196\u001b[0m     \u001b[38;5;66;03m# print(f\"Processing result {idx + 1}/{len(batch_metadata)}\")\u001b[39;00m\n\u001b[0;32m    197\u001b[0m     \u001b[38;5;66;03m# if result.boxes is None:\u001b[39;00m\n\u001b[0;32m    198\u001b[0m     \u001b[38;5;66;03m#     print(\"0 boxes detected, skipping...\")\u001b[39;00m\n\u001b[0;32m    199\u001b[0m     \u001b[38;5;66;03m# else:\u001b[39;00m\n\u001b[0;32m    200\u001b[0m     \u001b[38;5;66;03m#     print(f\"Detected {len(result.boxes)} boxes\")\u001b[39;00m\n\u001b[0;32m    201\u001b[0m     \u001b[38;5;28;01mif\u001b[39;00m result\u001b[38;5;241m.\u001b[39mboxes \u001b[38;5;129;01mis\u001b[39;00m \u001b[38;5;28;01mNone\u001b[39;00m \u001b[38;5;129;01mor\u001b[39;00m \u001b[38;5;28mlen\u001b[39m(result\u001b[38;5;241m.\u001b[39mboxes) \u001b[38;5;241m==\u001b[39m \u001b[38;5;241m0\u001b[39m:\n\u001b[0;32m    202\u001b[0m         \u001b[38;5;28;01mcontinue\u001b[39;00m\n",
      "File \u001b[1;32mc:\\Users\\phamd\\anaconda3\\envs\\env-3.9\\lib\\site-packages\\torch\\utils\\_contextlib.py:36\u001b[0m, in \u001b[0;36m_wrap_generator.<locals>.generator_context\u001b[1;34m(*args, **kwargs)\u001b[0m\n\u001b[0;32m     33\u001b[0m \u001b[38;5;28;01mtry\u001b[39;00m:\n\u001b[0;32m     34\u001b[0m     \u001b[38;5;66;03m# Issuing `None` to a generator fires it up\u001b[39;00m\n\u001b[0;32m     35\u001b[0m     \u001b[38;5;28;01mwith\u001b[39;00m ctx_factory():\n\u001b[1;32m---> 36\u001b[0m         response \u001b[38;5;241m=\u001b[39m \u001b[43mgen\u001b[49m\u001b[38;5;241;43m.\u001b[39;49m\u001b[43msend\u001b[49m\u001b[43m(\u001b[49m\u001b[38;5;28;43;01mNone\u001b[39;49;00m\u001b[43m)\u001b[49m\n\u001b[0;32m     38\u001b[0m     \u001b[38;5;28;01mwhile\u001b[39;00m \u001b[38;5;28;01mTrue\u001b[39;00m:\n\u001b[0;32m     39\u001b[0m         \u001b[38;5;28;01mtry\u001b[39;00m:\n\u001b[0;32m     40\u001b[0m             \u001b[38;5;66;03m# Forward the response to our caller and get its next request\u001b[39;00m\n",
      "File \u001b[1;32mc:\\Users\\phamd\\anaconda3\\envs\\env-3.9\\lib\\site-packages\\ultralytics\\engine\\predictor.py:326\u001b[0m, in \u001b[0;36mBasePredictor.stream_inference\u001b[1;34m(self, source, model, *args, **kwargs)\u001b[0m\n\u001b[0;32m    324\u001b[0m \u001b[38;5;66;03m# Preprocess\u001b[39;00m\n\u001b[0;32m    325\u001b[0m \u001b[38;5;28;01mwith\u001b[39;00m profilers[\u001b[38;5;241m0\u001b[39m]:\n\u001b[1;32m--> 326\u001b[0m     im \u001b[38;5;241m=\u001b[39m \u001b[38;5;28;43mself\u001b[39;49m\u001b[38;5;241;43m.\u001b[39;49m\u001b[43mpreprocess\u001b[49m\u001b[43m(\u001b[49m\u001b[43mim0s\u001b[49m\u001b[43m)\u001b[49m\n\u001b[0;32m    328\u001b[0m \u001b[38;5;66;03m# Inference\u001b[39;00m\n\u001b[0;32m    329\u001b[0m \u001b[38;5;28;01mwith\u001b[39;00m profilers[\u001b[38;5;241m1\u001b[39m]:\n",
      "File \u001b[1;32mc:\\Users\\phamd\\anaconda3\\envs\\env-3.9\\lib\\site-packages\\ultralytics\\engine\\predictor.py:166\u001b[0m, in \u001b[0;36mBasePredictor.preprocess\u001b[1;34m(self, im)\u001b[0m\n\u001b[0;32m    164\u001b[0m         im \u001b[38;5;241m=\u001b[39m im[\u001b[38;5;241m.\u001b[39m\u001b[38;5;241m.\u001b[39m\u001b[38;5;241m.\u001b[39m, ::\u001b[38;5;241m-\u001b[39m\u001b[38;5;241m1\u001b[39m]  \u001b[38;5;66;03m# BGR to RGB\u001b[39;00m\n\u001b[0;32m    165\u001b[0m     im \u001b[38;5;241m=\u001b[39m im\u001b[38;5;241m.\u001b[39mtranspose((\u001b[38;5;241m0\u001b[39m, \u001b[38;5;241m3\u001b[39m, \u001b[38;5;241m1\u001b[39m, \u001b[38;5;241m2\u001b[39m))  \u001b[38;5;66;03m# BHWC to BCHW, (n, 3, h, w)\u001b[39;00m\n\u001b[1;32m--> 166\u001b[0m     im \u001b[38;5;241m=\u001b[39m \u001b[43mnp\u001b[49m\u001b[38;5;241;43m.\u001b[39;49m\u001b[43mascontiguousarray\u001b[49m\u001b[43m(\u001b[49m\u001b[43mim\u001b[49m\u001b[43m)\u001b[49m  \u001b[38;5;66;03m# contiguous\u001b[39;00m\n\u001b[0;32m    167\u001b[0m     im \u001b[38;5;241m=\u001b[39m torch\u001b[38;5;241m.\u001b[39mfrom_numpy(im)\n\u001b[0;32m    169\u001b[0m im \u001b[38;5;241m=\u001b[39m im\u001b[38;5;241m.\u001b[39mto(\u001b[38;5;28mself\u001b[39m\u001b[38;5;241m.\u001b[39mdevice)\n",
      "\u001b[1;31mKeyboardInterrupt\u001b[0m: "
     ]
    }
   ],
   "source": [
    "for iou in [0.1]:\n",
    "    for conf in [0.1, 0.2, 0.3, 0.4]:\n",
    "        print(f\"Running with iou: {iou}, conf: {conf}\")\n",
    "        for path in videos_path:\n",
    "            video_name = os.path.splitext(os.path.basename(path))[0]\n",
    "            print(f\"Processing video: {video_name}\")\n",
    "            output_path = f\"{output_folder}/iou_{iou}_conf_{conf}\"\n",
    "            \n",
    "            multiscale_det = multiscale_model.video_detect(\n",
    "                                                    path,\n",
    "                                                    conf_threshold=conf,\n",
    "                                                    iou_threshold=iou    \n",
    "                                                )    \n",
    "            visualize_detection_video(\n",
    "                video_path=path,\n",
    "                detection_frames=multiscale_det,\n",
    "                output_path=f\"{output_path}/{video_name}.mp4\"\n",
    "            )\n",
    "            save_log(\n",
    "                detections=multiscale_det,\n",
    "                video_name=video_name,\n",
    "                conf_threshold=conf,\n",
    "                iou_threshold=iou,\n",
    "                output_path=f\"{output_path}/{video_name}.json\",\n",
    "            )"
   ]
  },
  {
   "cell_type": "code",
   "execution_count": null,
   "id": "f0bb0a9c",
   "metadata": {},
   "outputs": [],
   "source": [
    "# yolo_model = model.DetectionModel(\n",
    "#                             model_path,\n",
    "#                             conf_threshold=0.3,\n",
    "#                             iou_threshold=0.45\n",
    "#                             )\n",
    "# multiscale_model = multiscale.DetectionModel(\n",
    "#                                     model_path,\n",
    "#                                     conf_threshold=0.3,\n",
    "#                                     iou_threshold=0.1\n",
    "#                                     )\n",
    "# yolo_track_model = track_model.TrackingModel(\n",
    "#                             yolo_model,\n",
    "#                             )\n",
    "# multiscale_track_model = track_model.TrackingModel(\n",
    "#                             multiscale_model,\n",
    "#                             )"
   ]
  },
  {
   "cell_type": "code",
   "execution_count": null,
   "id": "d58ced23",
   "metadata": {},
   "outputs": [],
   "source": [
    "# for path in videos_path:\n",
    "#     video_name = os.path.basename(path).removesuffix('.mp4').removesuffix('.avi').removesuffix('.mov')\n",
    "#     print(f\"Processing video: {video_name}\")\n",
    "    \n",
    "#     # # Detection\n",
    "#     # yolo_det = yolo_model.video_detect(path)\n",
    "#     multiscale_det = multiscale_model.video_detect(path)\n",
    "    \n",
    "#     # visualize_detection_video(\n",
    "#     #     video_path=path,\n",
    "#     #     detection_frames=yolo_det,\n",
    "#     #     output_path=f\"{output_folder}/detection/{video_name}/yolo.mp4\"\n",
    "#     # )\n",
    "#     visualize_detection_video(\n",
    "#         video_path=path,\n",
    "#         detection_frames=multiscale_det,\n",
    "#         output_path=f\"{output_folder}/detection/{video_name}.mp4\"\n",
    "#     )\n",
    "    \n",
    "#     # # Tracking\n",
    "#     # yolo_track = yolo_track_model.video_track(path)\n",
    "#     # multiscale_track = multiscale_track_model.video_track(path)\n",
    "#     # visualize_tracking_video(\n",
    "#     #     video_path=path,\n",
    "#     #     tracking_frames=yolo_track,\n",
    "#     #     output_path=f\"{output_folder}/tracking/{video_name}/yolo.mp4\"\n",
    "#     # )\n",
    "#     # visualize_tracking_video(\n",
    "#     #     video_path=path,\n",
    "#     #     tracking_frames=multiscale_track,\n",
    "#     #     output_path=f\"{output_folder}/tracking/{video_name}/multiscale.mp4\"\n",
    "#     # )"
   ]
  }
 ],
 "metadata": {
  "kernelspec": {
   "display_name": "env-3.9",
   "language": "python",
   "name": "python3"
  },
  "language_info": {
   "codemirror_mode": {
    "name": "ipython",
    "version": 3
   },
   "file_extension": ".py",
   "mimetype": "text/x-python",
   "name": "python",
   "nbconvert_exporter": "python",
   "pygments_lexer": "ipython3",
   "version": "3.9.23"
  }
 },
 "nbformat": 4,
 "nbformat_minor": 5
}
