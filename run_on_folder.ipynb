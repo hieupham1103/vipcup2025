{
 "cells": [
  {
   "cell_type": "code",
   "execution_count": 1,
   "id": "fba72371",
   "metadata": {},
   "outputs": [],
   "source": [
    "import os\n",
    "\n",
    "from models import multiscale_model as multiscale\n",
    "from models import model\n",
    "from models import track_model\n",
    "from src.utils import visualize_detection_video, visualize_tracking_video"
   ]
  },
  {
   "cell_type": "code",
   "execution_count": 2,
   "id": "fb8f0be2",
   "metadata": {},
   "outputs": [],
   "source": [
    "videos_folder = \"data/test_data/det_track/IR/videos\"\n",
    "model_path = \"checkpoints/RGB/yolov8n/best.pt\"\n",
    "output_folder = \"outputs/all_iou_0.1\""
   ]
  },
  {
   "cell_type": "code",
   "execution_count": 4,
   "id": "ece7e9ed",
   "metadata": {},
   "outputs": [],
   "source": [
    "videos_path = [\n",
    "    os.path.join(videos_folder, video)\n",
    "    for video in os.listdir(videos_folder)\n",
    "    if video.endswith(('.mp4', '.avi', '.mov'))\n",
    "]"
   ]
  },
  {
   "cell_type": "code",
   "execution_count": 5,
   "id": "1011c495",
   "metadata": {},
   "outputs": [
    {
     "data": {
      "text/plain": [
       "['data/test_data/det_track/IR/videos\\\\IR_BIRD_074.mp4',\n",
       " 'data/test_data/det_track/IR/videos\\\\IR_BIRD_075.mp4',\n",
       " 'data/test_data/det_track/IR/videos\\\\IR_BIRD_076.mp4',\n",
       " 'data/test_data/det_track/IR/videos\\\\IR_BIRD_077.mp4',\n",
       " 'data/test_data/det_track/IR/videos\\\\IR_BIRD_078.mp4',\n",
       " 'data/test_data/det_track/IR/videos\\\\IR_BIRD_079.mp4',\n",
       " 'data/test_data/det_track/IR/videos\\\\IR_DRONE_139.mp4',\n",
       " 'data/test_data/det_track/IR/videos\\\\IR_DRONE_142.mp4',\n",
       " 'data/test_data/det_track/IR/videos\\\\IR_DRONE_145.mp4',\n",
       " 'data/test_data/det_track/IR/videos\\\\IR_DRONE_147.mp4',\n",
       " 'data/test_data/det_track/IR/videos\\\\IR_DRONE_152.mp4',\n",
       " 'data/test_data/det_track/IR/videos\\\\IR_DRONE_155.mp4',\n",
       " 'data/test_data/det_track/IR/videos\\\\IR_DRONE_157.mp4']"
      ]
     },
     "execution_count": 5,
     "metadata": {},
     "output_type": "execute_result"
    }
   ],
   "source": [
    "videos_path"
   ]
  },
  {
   "cell_type": "code",
   "execution_count": 3,
   "id": "f0bb0a9c",
   "metadata": {},
   "outputs": [],
   "source": [
    "yolo_model = model.DetectionModel(\n",
    "                            model_path,\n",
    "                            conf_threshold=0.3,\n",
    "                            iou_threshold=0.45\n",
    "                            )\n",
    "multiscale_model = multiscale.DetectionModel(\n",
    "                                    model_path,\n",
    "                                    conf_threshold=0.3,\n",
    "                                    iou_threshold=0.1\n",
    "                                    )\n",
    "yolo_track_model = track_model.TrackingModel(\n",
    "                            yolo_model,\n",
    "                            )\n",
    "multiscale_track_model = track_model.TrackingModel(\n",
    "                            multiscale_model,\n",
    "                            )"
   ]
  },
  {
   "cell_type": "code",
   "execution_count": 6,
   "id": "d58ced23",
   "metadata": {},
   "outputs": [
    {
     "name": "stdout",
     "output_type": "stream",
     "text": [
      "Processing video: IR_BIRD_074\n",
      "Processing video: IR_BIRD_075\n",
      "Processing video: IR_BIRD_076\n",
      "Processing video: IR_BIRD_077\n",
      "Processing video: IR_BIRD_078\n",
      "Processing video: IR_BIRD_079\n",
      "Processing video: IR_DRONE_139\n",
      "Processing video: IR_DRONE_142\n",
      "Processing video: IR_DRONE_145\n",
      "Processing video: IR_DRONE_147\n",
      "Processing video: IR_DRONE_152\n",
      "Processing video: IR_DRONE_155\n",
      "Processing video: IR_DRONE_157\n"
     ]
    }
   ],
   "source": [
    "for path in videos_path:\n",
    "    video_name = os.path.basename(path).removesuffix('.mp4').removesuffix('.avi').removesuffix('.mov')\n",
    "    print(f\"Processing video: {video_name}\")\n",
    "    \n",
    "    # # Detection\n",
    "    yolo_det = yolo_model.video_detect(path)\n",
    "    multiscale_det = multiscale_model.video_detect(path)\n",
    "    \n",
    "    visualize_detection_video(\n",
    "        video_path=path,\n",
    "        detection_frames=yolo_det,\n",
    "        output_path=f\"{output_folder}/detection/{video_name}/yolo.mp4\"\n",
    "    )\n",
    "    visualize_detection_video(\n",
    "        video_path=path,\n",
    "        detection_frames=multiscale_det,\n",
    "        output_path=f\"{output_folder}/detection/{video_name}/multiscale.mp4\"\n",
    "    )\n",
    "    \n",
    "    # # Tracking\n",
    "    yolo_track = yolo_track_model.video_track(path)\n",
    "    multiscale_track = multiscale_track_model.video_track(path)\n",
    "    visualize_tracking_video(\n",
    "        video_path=path,\n",
    "        tracking_frames=yolo_track,\n",
    "        output_path=f\"{output_folder}/tracking/{video_name}/yolo.mp4\"\n",
    "    )\n",
    "    visualize_tracking_video(\n",
    "        video_path=path,\n",
    "        tracking_frames=multiscale_track,\n",
    "        output_path=f\"{output_folder}/tracking/{video_name}/multiscale.mp4\"\n",
    "    )"
   ]
  }
 ],
 "metadata": {
  "kernelspec": {
   "display_name": "env-3.9",
   "language": "python",
   "name": "python3"
  },
  "language_info": {
   "codemirror_mode": {
    "name": "ipython",
    "version": 3
   },
   "file_extension": ".py",
   "mimetype": "text/x-python",
   "name": "python",
   "nbconvert_exporter": "python",
   "pygments_lexer": "ipython3",
   "version": "3.9.23"
  }
 },
 "nbformat": 4,
 "nbformat_minor": 5
}
