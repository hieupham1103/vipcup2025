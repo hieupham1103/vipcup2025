{
 "cells": [
  {
   "cell_type": "code",
   "execution_count": 1,
   "id": "fba72371",
   "metadata": {},
   "outputs": [],
   "source": [
    "import os\n",
    "import orjson\n",
    "\n",
    "from models import multiscale_model as multiscale\n",
    "from models import model\n",
    "from models import track_model\n",
    "from src.utils import visualize_detection_video, visualize_tracking_video"
   ]
  },
  {
   "cell_type": "code",
   "execution_count": 2,
   "id": "fb8f0be2",
   "metadata": {},
   "outputs": [],
   "source": [
    "# videos_folder = \"data/test_data/det_track/RGB/videos\"\n",
    "videos_folder = \"data/Validation_Videos/IR\"\n",
    "model_path = \"checkpoints/IR/yolov8n/best.pt\"\n",
    "output_folder = \"outputs/eval/IR\""
   ]
  },
  {
   "cell_type": "code",
   "execution_count": 3,
   "id": "ece7e9ed",
   "metadata": {},
   "outputs": [],
   "source": [
    "videos_path = [\n",
    "    os.path.join(videos_folder, video)\n",
    "    for video in os.listdir(videos_folder)\n",
    "    if video.endswith(('.mp4', '.avi', '.mov'))\n",
    "]"
   ]
  },
  {
   "cell_type": "code",
   "execution_count": 4,
   "id": "1011c495",
   "metadata": {},
   "outputs": [
    {
     "data": {
      "text/plain": [
       "['data/Validation_Videos/IR\\\\IR_BIRD_03897.mp4',\n",
       " 'data/Validation_Videos/IR\\\\IR_BIRD_03998.mp4',\n",
       " 'data/Validation_Videos/IR\\\\IR_BIRD_04099.mp4',\n",
       " 'data/Validation_Videos/IR\\\\IR_BIRD_041100.mp4',\n",
       " 'data/Validation_Videos/IR\\\\IR_BIRD_042101.mp4',\n",
       " 'data/Validation_Videos/IR\\\\IR_BIRD_044103.mp4',\n",
       " 'data/Validation_Videos/IR\\\\IR_DRONE_082192.mp4',\n",
       " 'data/Validation_Videos/IR\\\\IR_DRONE_083193.mp4',\n",
       " 'data/Validation_Videos/IR\\\\IR_DRONE_085195.mp4',\n",
       " 'data/Validation_Videos/IR\\\\IR_DRONE_086196.mp4',\n",
       " 'data/Validation_Videos/IR\\\\IR_DRONE_087197.mp4',\n",
       " 'data/Validation_Videos/IR\\\\IR_DRONE_088198.mp4',\n",
       " 'data/Validation_Videos/IR\\\\IR_DRONE_089199.mp4',\n",
       " 'data/Validation_Videos/IR\\\\IR_DRONE_090200.mp4',\n",
       " 'data/Validation_Videos/IR\\\\IR_DRONE_091201.mp4',\n",
       " 'data/Validation_Videos/IR\\\\IR_DRONE_093203.mp4',\n",
       " 'data/Validation_Videos/IR\\\\IR_DRONE_094204.mp4',\n",
       " 'data/Validation_Videos/IR\\\\IR_DRONE_095205.mp4',\n",
       " 'data/Validation_Videos/IR\\\\IR_DRONE_096206.mp4',\n",
       " 'data/Validation_Videos/IR\\\\IR_DRONE_097207.mp4']"
      ]
     },
     "execution_count": 4,
     "metadata": {},
     "output_type": "execute_result"
    }
   ],
   "source": [
    "videos_path"
   ]
  },
  {
   "cell_type": "code",
   "execution_count": 5,
   "id": "b44cd9d0",
   "metadata": {},
   "outputs": [],
   "source": [
    "multiscale_model = multiscale.DetectionModel(\n",
    "                model_path=model_path,\n",
    "                device=\"cuda\",\n",
    "            )\n",
    "yolo_model = model.DetectionModel(\n",
    "                model_path=model_path,\n",
    "                device=\"cuda\",\n",
    "            )\n",
    "# track_model = track_model.TrackingModel(\n",
    "#                 multiscale_model\n",
    "#             )"
   ]
  },
  {
   "cell_type": "code",
   "execution_count": 6,
   "id": "cb3310e5",
   "metadata": {},
   "outputs": [],
   "source": [
    "def save_log(\n",
    "            detections,\n",
    "            video_name,\n",
    "            conf_threshold,\n",
    "            iou_threshold,\n",
    "            output_path\n",
    "        ):\n",
    "    new_detections = detections.copy()\n",
    "    for frame_id, frame in enumerate(new_detections):\n",
    "        for idx, (bbox, score, label) in enumerate(zip(frame[\"boxes\"], frame[\"scores\"], frame[\"labels\"])):\n",
    "            new_detections[frame_id][\"boxes\"][idx] = [float(coord) for coord in bbox]\n",
    "            new_detections[frame_id][\"scores\"][idx] = float(score)\n",
    "            new_detections[frame_id][\"labels\"][idx] = int(label)\n",
    "            \n",
    "    output = {\n",
    "        \"video_name\": video_name,\n",
    "        \"conf_threshold\": conf_threshold,\n",
    "        \"iou_threshold\": iou_threshold,\n",
    "        \"frames\": detections,\n",
    "    }\n",
    "    with open(output_path, \"wb\") as f:\n",
    "        f.write(orjson.dumps(output, option=orjson.OPT_INDENT_2))\n",
    "    print(f\"Saved log to {output_path}\")\n",
    "    return output_path"
   ]
  },
  {
   "cell_type": "code",
   "execution_count": null,
   "id": "6cd90220",
   "metadata": {},
   "outputs": [
    {
     "name": "stdout",
     "output_type": "stream",
     "text": [
      "Running with iou: 0.1, conf: 0.1\n",
      "Processing video: IR_BIRD_03897\n"
     ]
    }
   ],
   "source": [
    "for iou in [0.1]:\n",
    "    for conf in [0.1]:\n",
    "        print(f\"Running with iou: {iou}, conf: {conf}\")\n",
    "        for path in videos_path:\n",
    "            video_name = os.path.splitext(os.path.basename(path))[0]\n",
    "            print(f\"Processing video: {video_name}\")\n",
    "            output_path = f\"{output_folder}/iou_{iou}_conf_{conf}\"\n",
    "            \n",
    "            yolo_det = yolo_model.video_detect(\n",
    "                                            path,\n",
    "                                            conf_threshold=conf,\n",
    "                                            iou_threshold=iou\n",
    "                                        )\n",
    "            visualize_detection_video(\n",
    "                video_path=path,\n",
    "                detection_frames=yolo_det,\n",
    "                output_path=f\"{output_path}/{video_name}-yolo.mp4\"\n",
    "            )\n",
    "            save_log(\n",
    "                detections=yolo_det,\n",
    "                video_name=video_name,\n",
    "                conf_threshold=conf,\n",
    "                iou_threshold=iou,\n",
    "                output_path=f\"{output_path}/{video_name}-yolo_det.json\",\n",
    "            )\n",
    "            \n",
    "            multiscale_det = multiscale_model.video_detect(\n",
    "                                                    path,\n",
    "                                                    conf_threshold=conf,\n",
    "                                                    iou_threshold=iou    \n",
    "                                                )    \n",
    "            visualize_detection_video(\n",
    "                video_path=path,\n",
    "                detection_frames=multiscale_det,\n",
    "                output_path=f\"{output_path}/{video_name}.mp4\"\n",
    "            )\n",
    "            save_log(\n",
    "                detections=multiscale_det,\n",
    "                video_name=video_name,\n",
    "                conf_threshold=conf,\n",
    "                iou_threshold=iou,\n",
    "                output_path=f\"{output_path}/{video_name}.json\",\n",
    "            )"
   ]
  },
  {
   "cell_type": "code",
   "execution_count": null,
   "id": "f0bb0a9c",
   "metadata": {},
   "outputs": [],
   "source": [
    "# yolo_model = model.DetectionModel(\n",
    "#                             model_path,\n",
    "#                             conf_threshold=0.3,\n",
    "#                             iou_threshold=0.45\n",
    "#                             )\n",
    "# multiscale_model = multiscale.DetectionModel(\n",
    "#                                     model_path,\n",
    "#                                     conf_threshold=0.3,\n",
    "#                                     iou_threshold=0.1\n",
    "#                                     )\n",
    "# yolo_track_model = track_model.TrackingModel(\n",
    "#                             yolo_model,\n",
    "#                             )\n",
    "# multiscale_track_model = track_model.TrackingModel(\n",
    "#                             multiscale_model,\n",
    "#                             )"
   ]
  },
  {
   "cell_type": "code",
   "execution_count": null,
   "id": "d58ced23",
   "metadata": {},
   "outputs": [],
   "source": [
    "# for path in videos_path:\n",
    "#     video_name = os.path.basename(path).removesuffix('.mp4').removesuffix('.avi').removesuffix('.mov')\n",
    "#     print(f\"Processing video: {video_name}\")\n",
    "    \n",
    "#     # # Detection\n",
    "#     # yolo_det = yolo_model.video_detect(path)\n",
    "#     multiscale_det = multiscale_model.video_detect(path)\n",
    "    \n",
    "#     # visualize_detection_video(\n",
    "#     #     video_path=path,\n",
    "#     #     detection_frames=yolo_det,\n",
    "#     #     output_path=f\"{output_folder}/detection/{video_name}/yolo.mp4\"\n",
    "#     # )\n",
    "#     visualize_detection_video(\n",
    "#         video_path=path,\n",
    "#         detection_frames=multiscale_det,\n",
    "#         output_path=f\"{output_folder}/detection/{video_name}.mp4\"\n",
    "#     )\n",
    "    \n",
    "#     # # Tracking\n",
    "#     # yolo_track = yolo_track_model.video_track(path)\n",
    "#     # multiscale_track = multiscale_track_model.video_track(path)\n",
    "#     # visualize_tracking_video(\n",
    "#     #     video_path=path,\n",
    "#     #     tracking_frames=yolo_track,\n",
    "#     #     output_path=f\"{output_folder}/tracking/{video_name}/yolo.mp4\"\n",
    "#     # )\n",
    "#     # visualize_tracking_video(\n",
    "#     #     video_path=path,\n",
    "#     #     tracking_frames=multiscale_track,\n",
    "#     #     output_path=f\"{output_folder}/tracking/{video_name}/multiscale.mp4\"\n",
    "#     # )"
   ]
  }
 ],
 "metadata": {
  "kernelspec": {
   "display_name": "env-3.9",
   "language": "python",
   "name": "python3"
  },
  "language_info": {
   "codemirror_mode": {
    "name": "ipython",
    "version": 3
   },
   "file_extension": ".py",
   "mimetype": "text/x-python",
   "name": "python",
   "nbconvert_exporter": "python",
   "pygments_lexer": "ipython3",
   "version": "3.9.23"
  }
 },
 "nbformat": 4,
 "nbformat_minor": 5
}
